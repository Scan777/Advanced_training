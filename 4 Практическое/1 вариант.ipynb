{
 "cells": [
  {
   "cell_type": "markdown",
   "id": "2e728100",
   "metadata": {},
   "source": [
    "# Вариант 1: \"Захват ближайшего красного объекта\""
   ]
  },
  {
   "cell_type": "markdown",
   "id": "7cb08643",
   "metadata": {},
   "source": [
    "Задача: Обнаружить все красные объекты и захватить ближайший из них.\n",
    "\n",
    "•\tЦелевой цвет: Красный (Hue: 0-16)\n",
    "\n",
    "•\tРеализовать определение координат центра для всех красных объектов\n",
    "\n",
    "•\tВычислить расстояние до каждого объекта (по положению в кадре)\n",
    "\n",
    "•\tЗахват и перемещение: Захватить самый близкий красный объект и переместить его в целевую зону A"
   ]
  },
  {
   "cell_type": "code",
   "execution_count": null,
   "id": "5c828d48",
   "metadata": {},
   "outputs": [],
   "source": [
    "#Ваше решение"
   ]
  }
 ],
 "metadata": {
  "kernelspec": {
   "display_name": "Python 3 (ipykernel)",
   "language": "python",
   "name": "python3"
  },
  "language_info": {
   "codemirror_mode": {
    "name": "ipython",
    "version": 3
   },
   "file_extension": ".py",
   "mimetype": "text/x-python",
   "name": "python",
   "nbconvert_exporter": "python",
   "pygments_lexer": "ipython3",
   "version": "3.9.12"
  }
 },
 "nbformat": 4,
 "nbformat_minor": 5
}
