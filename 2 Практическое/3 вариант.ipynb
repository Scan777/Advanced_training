{
 "cells": [
  {
   "cell_type": "markdown",
   "id": "3fd7d633",
   "metadata": {},
   "source": [
    "# Вариант 3: \"Сборщик\""
   ]
  },
  {
   "cell_type": "markdown",
   "id": "0c33d450",
   "metadata": {},
   "source": [
    "1.\tНапишите скрипт, имитирующий сбор детали с конвейера и ее укладку в тару.\n",
    "2.\tАлгоритм:\n",
    "\n",
    "o\tУстановите базу BASE[5] (координаты конвейера).\n",
    "\n",
    "o\tИспользуйте движение PTP для быстрого подхода к точке над деталью {X: 100, Y: 50, Z: 200, A: 0, B: 0, C: 0}.\n",
    "\n",
    "o\tИспользуйте движение LIN для точного спуска к точке захвата {Z: 95}.\n",
    "\n",
    "o\tЗакройте захват (close_grip()).\n",
    "\n",
    "o\tПо траектории LIN поднимите деталь, переместите ее над тарой и опустите.\n",
    "\n",
    "o\tОткройте захват (open_grip())."
   ]
  },
  {
   "cell_type": "code",
   "execution_count": null,
   "id": "0284afc4",
   "metadata": {},
   "outputs": [],
   "source": [
    "from openshowvar import *\n",
    "from kuka import Kuka\n",
    "import numpy as np   \n",
    "import time\n",
    "#Подключение к роботу\n",
    "robot = openshowvar(ip = '192.168.17.2', port = 7000)\n",
    "kuka = Kuka(robot)"
   ]
  },
  {
   "cell_type": "code",
   "execution_count": null,
   "id": "c8070036",
   "metadata": {},
   "outputs": [],
   "source": [
    "#Ваше решение"
   ]
  }
 ],
 "metadata": {
  "kernelspec": {
   "display_name": "Python 3 (ipykernel)",
   "language": "python",
   "name": "python3"
  },
  "language_info": {
   "codemirror_mode": {
    "name": "ipython",
    "version": 3
   },
   "file_extension": ".py",
   "mimetype": "text/x-python",
   "name": "python",
   "nbconvert_exporter": "python",
   "pygments_lexer": "ipython3",
   "version": "3.9.12"
  }
 },
 "nbformat": 4,
 "nbformat_minor": 5
}
