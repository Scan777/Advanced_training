{
 "cells": [
  {
   "cell_type": "markdown",
   "id": "4151fd6c",
   "metadata": {},
   "source": [
    "# Вариант 7: \"Захват объектов по заданной схеме\""
   ]
  },
  {
   "cell_type": "markdown",
   "id": "6cd4841d",
   "metadata": {},
   "source": [
    "Задача: Расположить объекты в определенном порядке.\n",
    "\n",
    "•\tЦелевые цвета: Красный и Желтый\n",
    "\n",
    "•\tОбнаружить объекты обоих цветов\n",
    "\n",
    "•\tЗахват и перемещение: Захватывать и размещать объекты в шахматном порядке: красный-желтый-красный-желтый в целевом месте"
   ]
  },
  {
   "cell_type": "code",
   "execution_count": null,
   "id": "86246c99",
   "metadata": {},
   "outputs": [],
   "source": [
    "#Ваше решение"
   ]
  }
 ],
 "metadata": {
  "kernelspec": {
   "display_name": "Python 3 (ipykernel)",
   "language": "python",
   "name": "python3"
  },
  "language_info": {
   "codemirror_mode": {
    "name": "ipython",
    "version": 3
   },
   "file_extension": ".py",
   "mimetype": "text/x-python",
   "name": "python",
   "nbconvert_exporter": "python",
   "pygments_lexer": "ipython3",
   "version": "3.9.12"
  }
 },
 "nbformat": 4,
 "nbformat_minor": 5
}
