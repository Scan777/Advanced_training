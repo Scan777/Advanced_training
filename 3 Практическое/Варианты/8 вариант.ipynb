{
 "cells": [
  {
   "cell_type": "markdown",
   "id": "7606d4ca",
   "metadata": {},
   "source": [
    "# Вариант 8: \"Детектирование в режиме реального времени с записью координат\""
   ]
  },
  {
   "cell_type": "markdown",
   "id": "7c5fbc46",
   "metadata": {},
   "source": [
    "Задача: Написать программу, которая записывает координаты красных объектов в файл.\n",
    "\n",
    "Специфика:\n",
    "\n",
    "•\tЦелевой цвет: Красный.\n",
    "\n",
    "•\tПри обнаружении объекта записывать его координаты (X, Y в пикселях) и время обнаружения в текстовый файл.\n",
    "\n",
    "•\tРеализовать функцию для запуска и остановки записи по нажатию клавиш."
   ]
  },
  {
   "cell_type": "code",
   "execution_count": null,
   "id": "e188a604",
   "metadata": {},
   "outputs": [],
   "source": [
    "#Ваше решение"
   ]
  }
 ],
 "metadata": {
  "kernelspec": {
   "display_name": "Python 3 (ipykernel)",
   "language": "python",
   "name": "python3"
  },
  "language_info": {
   "codemirror_mode": {
    "name": "ipython",
    "version": 3
   },
   "file_extension": ".py",
   "mimetype": "text/x-python",
   "name": "python",
   "nbconvert_exporter": "python",
   "pygments_lexer": "ipython3",
   "version": "3.9.12"
  }
 },
 "nbformat": 4,
 "nbformat_minor": 5
}
