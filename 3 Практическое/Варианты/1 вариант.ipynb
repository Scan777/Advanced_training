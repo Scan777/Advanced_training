{
 "cells": [
  {
   "cell_type": "markdown",
   "id": "fd69b349",
   "metadata": {},
   "source": [
    "# Вариант 1: \"Калибровка и детектирование красных объектов\""
   ]
  },
  {
   "cell_type": "markdown",
   "id": "34ca1866",
   "metadata": {},
   "source": [
    "Задача: Откалибровать камеру и написать программу для обнаружения красных кубиков.\n",
    "\n",
    "Специфика:\n",
    "\n",
    "•\tЦелевой цвет: Красный (Hue: 0-16, Saturation: 158-255, Value: 0-255).\n",
    "\n",
    "•\tРеализовать вывод на изображении bounding box и координат центра каждого красного объекта."
   ]
  },
  {
   "cell_type": "code",
   "execution_count": null,
   "id": "4f7f7c8d",
   "metadata": {},
   "outputs": [],
   "source": [
    "#Ваше решение"
   ]
  }
 ],
 "metadata": {
  "kernelspec": {
   "display_name": "Python 3 (ipykernel)",
   "language": "python",
   "name": "python3"
  },
  "language_info": {
   "codemirror_mode": {
    "name": "ipython",
    "version": 3
   },
   "file_extension": ".py",
   "mimetype": "text/x-python",
   "name": "python",
   "nbconvert_exporter": "python",
   "pygments_lexer": "ipython3",
   "version": "3.9.12"
  }
 },
 "nbformat": 4,
 "nbformat_minor": 5
}
