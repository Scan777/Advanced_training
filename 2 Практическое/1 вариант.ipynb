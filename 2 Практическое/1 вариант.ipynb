{
 "cells": [
  {
   "cell_type": "markdown",
   "id": "3fd7d633",
   "metadata": {},
   "source": [
    "# Вариант 1: \"Калибровщик\""
   ]
  },
  {
   "cell_type": "markdown",
   "id": "0c33d450",
   "metadata": {},
   "source": [
    "\n",
    "1.\tНапишите скрипт, который выполняет точное позиционирование манипулятора по заранее известным координатам.\n",
    "2.\tАлгоритм:\n",
    "\n",
    "o\tУстановите базу BASE[3] и инструмент TOOL[2].\n",
    "\n",
    "o\tЗадайте низкую скорость движения (15%).\n",
    "\n",
    "o\tОтправьте манипулятор в точку с координатами {X: 450, Y: 150, Z: 300, A: 0, B: 90, C: 0} с использованием движения PTP.\n",
    "\n",
    "o\tПосле достижения точки, прочитайте и выведите в консоль фактические значения $POS_ACT для проверки точности позиционирования."
   ]
  },
  {
   "cell_type": "code",
   "execution_count": null,
   "id": "0284afc4",
   "metadata": {},
   "outputs": [],
   "source": [
    "from openshowvar import *\n",
    "from kuka import Kuka\n",
    "import numpy as np   \n",
    "import time\n",
    "#Подключение к роботу\n",
    "robot = openshowvar(ip = '192.168.17.2', port = 7000)\n",
    "kuka = Kuka(robot)"
   ]
  },
  {
   "cell_type": "code",
   "execution_count": null,
   "id": "c8070036",
   "metadata": {},
   "outputs": [],
   "source": [
    "#Ваше решение"
   ]
  }
 ],
 "metadata": {
  "kernelspec": {
   "display_name": "Python 3 (ipykernel)",
   "language": "python",
   "name": "python3"
  },
  "language_info": {
   "codemirror_mode": {
    "name": "ipython",
    "version": 3
   },
   "file_extension": ".py",
   "mimetype": "text/x-python",
   "name": "python",
   "nbconvert_exporter": "python",
   "pygments_lexer": "ipython3",
   "version": "3.9.12"
  }
 },
 "nbformat": 4,
 "nbformat_minor": 5
}
