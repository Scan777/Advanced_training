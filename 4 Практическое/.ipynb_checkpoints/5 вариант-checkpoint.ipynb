{
 "cells": [
  {
   "cell_type": "markdown",
   "id": "4151fd6c",
   "metadata": {},
   "source": [
    "# Вариант 5: \"Захват самого крупного объекта\""
   ]
  },
  {
   "cell_type": "markdown",
   "id": "6cd4841d",
   "metadata": {},
   "source": [
    "Задача: Найти и захватить самый большой объект заданного цвета.\n",
    "\n",
    "•\tЦелевой цвет: Синий\n",
    "\n",
    "•\tРеализовать поиск контура с максимальной площадью\n",
    "\n",
    "•\tЗахват и перемещение: Захватить самый большой синий объект и аккуратно переместить его в зону для крупных объектов"
   ]
  },
  {
   "cell_type": "code",
   "execution_count": null,
   "id": "86246c99",
   "metadata": {},
   "outputs": [],
   "source": [
    "#Ваше решение"
   ]
  }
 ],
 "metadata": {
  "kernelspec": {
   "display_name": "Python 3 (ipykernel)",
   "language": "python",
   "name": "python3"
  },
  "language_info": {
   "codemirror_mode": {
    "name": "ipython",
    "version": 3
   },
   "file_extension": ".py",
   "mimetype": "text/x-python",
   "name": "python",
   "nbconvert_exporter": "python",
   "pygments_lexer": "ipython3",
   "version": "3.9.12"
  }
 },
 "nbformat": 4,
 "nbformat_minor": 5
}
