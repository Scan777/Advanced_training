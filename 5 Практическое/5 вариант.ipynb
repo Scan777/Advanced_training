{
 "cells": [
  {
   "cell_type": "markdown",
   "id": "a68db2b4",
   "metadata": {},
   "source": [
    "# Вариант 5: \"Захват объектов в определенной зоне\""
   ]
  },
  {
   "cell_type": "markdown",
   "id": "2e6c7711",
   "metadata": {},
   "source": [
    "Задача: Захватывать только объекты, находящиеся в заданной области.\n",
    "\n",
    "    •\tКласс объекта: пульт (remote)\n",
    "    •\tОпределить рабочую зону (центральный прямоугольник 400x400 пикселей)\n",
    "    •\tЗахват и перемещение: Захватывать только те цилиндры, центры которых находятся в рабочей зоне"
   ]
  },
  {
   "cell_type": "code",
   "execution_count": null,
   "id": "8025239d",
   "metadata": {},
   "outputs": [],
   "source": [
    "#Ваше решение"
   ]
  }
 ],
 "metadata": {
  "kernelspec": {
   "display_name": "Python 3 (ipykernel)",
   "language": "python",
   "name": "python3"
  },
  "language_info": {
   "codemirror_mode": {
    "name": "ipython",
    "version": 3
   },
   "file_extension": ".py",
   "mimetype": "text/x-python",
   "name": "python",
   "nbconvert_exporter": "python",
   "pygments_lexer": "ipython3",
   "version": "3.9.12"
  }
 },
 "nbformat": 4,
 "nbformat_minor": 5
}
