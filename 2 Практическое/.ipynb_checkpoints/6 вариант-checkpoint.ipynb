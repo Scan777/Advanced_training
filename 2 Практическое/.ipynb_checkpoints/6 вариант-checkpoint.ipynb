{
 "cells": [
  {
   "cell_type": "markdown",
   "id": "3fd7d633",
   "metadata": {},
   "source": [
    "# Вариант 6: \"Оператор\""
   ]
  },
  {
   "cell_type": "markdown",
   "id": "0c33d450",
   "metadata": {},
   "source": [
    "1.\tНапишите интерактивный скрипт, управляющий манипулятором с клавиатуры.\n",
    "\n",
    "2.\tАлгоритм:\n",
    "\n",
    "o\tСкрипт должен в цикле ожидать ввода пользователя.\n",
    "\n",
    "o\tРеализуйте команды:\n",
    "\n",
    "    w/s - перемещение инструмента вперед/назад по оси X на 10 мм.\n",
    "    a/d - перемещение влево/вправо по оси Y на 10 мм.\n",
    "    q/e - подъем/опускание по оси Z на 10 мм.\n",
    "    o/c - открыть/закрыть захват.\n",
    "    r - вывести текущие координаты.\n",
    "    x - выход из программы и вызов kuka.quit()."
   ]
  },
  {
   "cell_type": "code",
   "execution_count": null,
   "id": "0284afc4",
   "metadata": {},
   "outputs": [],
   "source": [
    "from openshowvar import *\n",
    "from kuka import Kuka\n",
    "import numpy as np   \n",
    "import time\n",
    "#Подключение к роботу\n",
    "robot = openshowvar(ip = '192.168.17.2', port = 7000)\n",
    "kuka = Kuka(robot)"
   ]
  },
  {
   "cell_type": "code",
   "execution_count": null,
   "id": "c8070036",
   "metadata": {},
   "outputs": [],
   "source": [
    "#Ваше решение"
   ]
  }
 ],
 "metadata": {
  "kernelspec": {
   "display_name": "Python 3 (ipykernel)",
   "language": "python",
   "name": "python3"
  },
  "language_info": {
   "codemirror_mode": {
    "name": "ipython",
    "version": 3
   },
   "file_extension": ".py",
   "mimetype": "text/x-python",
   "name": "python",
   "nbconvert_exporter": "python",
   "pygments_lexer": "ipython3",
   "version": "3.9.12"
  }
 },
 "nbformat": 4,
 "nbformat_minor": 5
}
