{
 "cells": [
  {
   "cell_type": "markdown",
   "id": "4151fd6c",
   "metadata": {},
   "source": [
    "# Вариант 4: \"Захват объектов в зоне приоритета\""
   ]
  },
  {
   "cell_type": "markdown",
   "id": "6cd4841d",
   "metadata": {},
   "source": [
    "Задача: Захватывать объекты только в определенной зоне кадра.\n",
    "\n",
    "•\tЦелевой цвет: Красный\n",
    "\n",
    "•\tОпределить приоритетную зону (центральный квадрат 300x300 пикселей)\n",
    "\n",
    "•\tЗахват и перемещение: Захватывать только те красные объекты, центры которых попадают в приоритетную зону, и перемещать их в зону B"
   ]
  },
  {
   "cell_type": "code",
   "execution_count": null,
   "id": "86246c99",
   "metadata": {},
   "outputs": [],
   "source": [
    "#Ваше решение"
   ]
  }
 ],
 "metadata": {
  "kernelspec": {
   "display_name": "Python 3 (ipykernel)",
   "language": "python",
   "name": "python3"
  },
  "language_info": {
   "codemirror_mode": {
    "name": "ipython",
    "version": 3
   },
   "file_extension": ".py",
   "mimetype": "text/x-python",
   "name": "python",
   "nbconvert_exporter": "python",
   "pygments_lexer": "ipython3",
   "version": "3.9.12"
  }
 },
 "nbformat": 4,
 "nbformat_minor": 5
}
