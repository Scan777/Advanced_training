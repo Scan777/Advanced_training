{
 "cells": [
  {
   "cell_type": "markdown",
   "id": "7606d4ca",
   "metadata": {},
   "source": [
    "# Вариант 10: \"Система контроля наличия объектов на конвейере\""
   ]
  },
  {
   "cell_type": "markdown",
   "id": "7c5fbc46",
   "metadata": {},
   "source": [
    "Задача: Разработать систему мониторинга наличия объектов определенного цвета на движущейся ленте.\n",
    "\n",
    "Специфика:\n",
    "\n",
    "•\tЦелевой цвет: Красный (Hue: 0-16, Saturation: 158-255, Value: 0-255)\n",
    "\n",
    "•\tРеализовать детектирование объектов в зоне контроля (заранее определенной области кадра)\n",
    "\n",
    "•\tПри появлении/исчезновении объекта из зоны контроля:\n",
    "\n",
    "    o\tФормировать звуковой сигнал (beep)\n",
    "    o\tВыводить текстовое сообщение в консоль (\"Объект появился\", \"Объект отсутствует\")\n",
    "    o\tВести лог событий с временными метками"
   ]
  },
  {
   "cell_type": "code",
   "execution_count": null,
   "id": "e188a604",
   "metadata": {},
   "outputs": [],
   "source": [
    "#Ваше решение"
   ]
  }
 ],
 "metadata": {
  "kernelspec": {
   "display_name": "Python 3 (ipykernel)",
   "language": "python",
   "name": "python3"
  },
  "language_info": {
   "codemirror_mode": {
    "name": "ipython",
    "version": 3
   },
   "file_extension": ".py",
   "mimetype": "text/x-python",
   "name": "python",
   "nbconvert_exporter": "python",
   "pygments_lexer": "ipython3",
   "version": "3.9.12"
  }
 },
 "nbformat": 4,
 "nbformat_minor": 5
}
