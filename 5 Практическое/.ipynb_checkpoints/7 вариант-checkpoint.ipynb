{
 "cells": [
  {
   "cell_type": "markdown",
   "id": "a68db2b4",
   "metadata": {},
   "source": [
    "# Вариант 7: \"Многоклассовая сортировка\""
   ]
  },
  {
   "cell_type": "markdown",
   "id": "2e6c7711",
   "metadata": {},
   "source": [
    "Задача: Реализовать сортировку объектов трех разных классов.\n",
    "\n",
    "    •\tКлассы: яблоко (apple), апельсин (orange), банан (banana)\n",
    "    •\tОбнаруживать все три класса одновременно\n",
    "    •\tЗахват и перемещение: Захватывать объекты в порядке: яблоко  → банан → апельсин и размещать в соответствующих зонах"
   ]
  },
  {
   "cell_type": "code",
   "execution_count": null,
   "id": "8025239d",
   "metadata": {},
   "outputs": [],
   "source": [
    "#Ваше решение"
   ]
  }
 ],
 "metadata": {
  "kernelspec": {
   "display_name": "Python 3 (ipykernel)",
   "language": "python",
   "name": "python3"
  },
  "language_info": {
   "codemirror_mode": {
    "name": "ipython",
    "version": 3
   },
   "file_extension": ".py",
   "mimetype": "text/x-python",
   "name": "python",
   "nbconvert_exporter": "python",
   "pygments_lexer": "ipython3",
   "version": "3.9.12"
  }
 },
 "nbformat": 4,
 "nbformat_minor": 5
}
