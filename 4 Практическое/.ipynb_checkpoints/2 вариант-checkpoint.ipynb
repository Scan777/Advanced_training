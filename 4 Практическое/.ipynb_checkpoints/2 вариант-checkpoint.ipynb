{
 "cells": [
  {
   "cell_type": "markdown",
   "id": "4151fd6c",
   "metadata": {},
   "source": [
    "# Вариант 2: \"Сортировка желтых объектов по размеру\""
   ]
  },
  {
   "cell_type": "markdown",
   "id": "6cd4841d",
   "metadata": {},
   "source": [
    "Задача: Обнаружить желтые объекты и отсортировать их по размеру.\n",
    "\n",
    "•\tЦелевой цвет: Желтый (Hue: 17-35)\n",
    "\n",
    "•\tОпределить площадь каждого желтого объекта в пикселях\n",
    "\n",
    "•\tЗахват и перемещение: Захватывать объекты в порядке убывания размера и размещать их в линию с интервалом 100мм"
   ]
  },
  {
   "cell_type": "code",
   "execution_count": null,
   "id": "86246c99",
   "metadata": {},
   "outputs": [],
   "source": [
    "#Ваше решение"
   ]
  }
 ],
 "metadata": {
  "kernelspec": {
   "display_name": "Python 3 (ipykernel)",
   "language": "python",
   "name": "python3"
  },
  "language_info": {
   "codemirror_mode": {
    "name": "ipython",
    "version": 3
   },
   "file_extension": ".py",
   "mimetype": "text/x-python",
   "name": "python",
   "nbconvert_exporter": "python",
   "pygments_lexer": "ipython3",
   "version": "3.9.12"
  }
 },
 "nbformat": 4,
 "nbformat_minor": 5
}
