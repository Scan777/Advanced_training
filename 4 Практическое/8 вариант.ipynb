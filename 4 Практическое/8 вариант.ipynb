{
 "cells": [
  {
   "cell_type": "markdown",
   "id": "4151fd6c",
   "metadata": {},
   "source": [
    "# Вариант 8: \"Захват объекта с проверкой успешности\""
   ]
  },
  {
   "cell_type": "markdown",
   "id": "6cd4841d",
   "metadata": {},
   "source": [
    "Задача: Захватить объект и убедиться, что захват прошел успешно.\n",
    "\n",
    "•\tЦелевой цвет: Синий (Hue: 66-108)\n",
    "\n",
    "•\tОбнаружить синие объекты и определить координаты центра\n",
    "\n",
    "•\tЗахват и перемещение: Выполнить захват объекта, поднять на 50мм, сделать паузу 2 секунды. При успешном захвате - переместить в целевую зону. "
   ]
  },
  {
   "cell_type": "code",
   "execution_count": null,
   "id": "86246c99",
   "metadata": {},
   "outputs": [],
   "source": [
    "#Ваше решение"
   ]
  }
 ],
 "metadata": {
  "kernelspec": {
   "display_name": "Python 3 (ipykernel)",
   "language": "python",
   "name": "python3"
  },
  "language_info": {
   "codemirror_mode": {
    "name": "ipython",
    "version": 3
   },
   "file_extension": ".py",
   "mimetype": "text/x-python",
   "name": "python",
   "nbconvert_exporter": "python",
   "pygments_lexer": "ipython3",
   "version": "3.9.12"
  }
 },
 "nbformat": 4,
 "nbformat_minor": 5
}
