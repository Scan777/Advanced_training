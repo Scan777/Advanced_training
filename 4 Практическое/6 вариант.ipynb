{
 "cells": [
  {
   "cell_type": "markdown",
   "id": "4151fd6c",
   "metadata": {},
   "source": [
    "# Вариант 6: \"Циклический захват всех объектов цвета\""
   ]
  },
  {
   "cell_type": "markdown",
   "id": "6cd4841d",
   "metadata": {},
   "source": [
    "Задача: Последовательно захватить все объекты определенного цвета.\n",
    "\n",
    "•\tЦелевой цвет: Зеленый\n",
    "\n",
    "•\tОбнаружить все зеленые объекты и запомнить их координаты\n",
    "\n",
    "•\tЗахват и перемещение: Последовательно захватывать каждый зеленый объект (в порядке сверху вниз) и складывать их в стопку в целевой зоне"
   ]
  },
  {
   "cell_type": "code",
   "execution_count": null,
   "id": "86246c99",
   "metadata": {},
   "outputs": [],
   "source": [
    "#Ваше решение"
   ]
  }
 ],
 "metadata": {
  "kernelspec": {
   "display_name": "Python 3 (ipykernel)",
   "language": "python",
   "name": "python3"
  },
  "language_info": {
   "codemirror_mode": {
    "name": "ipython",
    "version": 3
   },
   "file_extension": ".py",
   "mimetype": "text/x-python",
   "name": "python",
   "nbconvert_exporter": "python",
   "pygments_lexer": "ipython3",
   "version": "3.9.12"
  }
 },
 "nbformat": 4,
 "nbformat_minor": 5
}
