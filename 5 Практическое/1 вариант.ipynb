{
 "cells": [
  {
   "cell_type": "markdown",
   "id": "bb6b00e2",
   "metadata": {},
   "source": [
    "# Вариант 1: \"Детектирование и захват объектов определенного класса\""
   ]
  },
  {
   "cell_type": "markdown",
   "id": "c8ef5008",
   "metadata": {},
   "source": [
    "Задача: Настроить детектирование объектов одного класса и реализовать их последовательный захват.\n",
    "\n",
    "    •\tКласс объекта: бутылка (bottle)\n",
    "    •\tРеализовать обнаружение всех бутылок в кадре\n",
    "    •\tОпределить координаты центра каждого объекта\n",
    "    •\tЗахват и перемещение: Последовательно захватывать бутылки слева направо и перемещать их в целевую зону"
   ]
  },
  {
   "cell_type": "code",
   "execution_count": null,
   "id": "505615a9",
   "metadata": {},
   "outputs": [],
   "source": [
    "#Ваше решение"
   ]
  }
 ],
 "metadata": {
  "kernelspec": {
   "display_name": "Python 3 (ipykernel)",
   "language": "python",
   "name": "python3"
  },
  "language_info": {
   "codemirror_mode": {
    "name": "ipython",
    "version": 3
   },
   "file_extension": ".py",
   "mimetype": "text/x-python",
   "name": "python",
   "nbconvert_exporter": "python",
   "pygments_lexer": "ipython3",
   "version": "3.9.12"
  }
 },
 "nbformat": 4,
 "nbformat_minor": 5
}
