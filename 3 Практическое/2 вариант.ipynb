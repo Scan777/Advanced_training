{
 "cells": [
  {
   "cell_type": "markdown",
   "id": "7606d4ca",
   "metadata": {},
   "source": [
    "# Вариант 2: \"Детектирование желтых объектов и фильтрация по площади\""
   ]
  },
  {
   "cell_type": "markdown",
   "id": "7c5fbc46",
   "metadata": {},
   "source": [
    "Задача: Настроить детектирование желтых объектов с фильтрацией по минимальной площади.\n",
    "\n",
    "Специфика:\n",
    "\n",
    "•\tЦелевой цвет: Желтый (Hue: 17-35).\n",
    "\n",
    "•\tРеализовать отсев шумов путем фильтрации контуров по площади (игнорировать объекты площадью менее 500 пикселей).\n",
    "\n",
    "•\tВывести на изображение только отфильтрованные объекты с их нумерацией."
   ]
  },
  {
   "cell_type": "code",
   "execution_count": null,
   "id": "e188a604",
   "metadata": {},
   "outputs": [],
   "source": [
    "#Ваше решение"
   ]
  }
 ],
 "metadata": {
  "kernelspec": {
   "display_name": "Python 3 (ipykernel)",
   "language": "python",
   "name": "python3"
  },
  "language_info": {
   "codemirror_mode": {
    "name": "ipython",
    "version": 3
   },
   "file_extension": ".py",
   "mimetype": "text/x-python",
   "name": "python",
   "nbconvert_exporter": "python",
   "pygments_lexer": "ipython3",
   "version": "3.9.12"
  }
 },
 "nbformat": 4,
 "nbformat_minor": 5
}
