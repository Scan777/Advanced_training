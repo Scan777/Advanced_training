{
 "cells": [
  {
   "cell_type": "markdown",
   "id": "3fd7d633",
   "metadata": {},
   "source": [
    "# Вариант 10: \"Автономный работник\""
   ]
  },
  {
   "cell_type": "markdown",
   "id": "0c33d450",
   "metadata": {},
   "source": [
    "1.\tНапишите комплексный скрипт, объединяющий несколько операций и завершающий работу.\n",
    "\n",
    "2.\tАлгоритм:\n",
    "\n",
    "o\tУстановите базу BASE[1] и инструмент TOOL[1]. Скорость 50%.\n",
    "\n",
    "o\tВыполните 3 полных цикла, каждый из которых включает:\n",
    "\n",
    "    Захват детали в точке А.\n",
    "    Перемещение детали в точку Б.\n",
    "    Возврат в исходное положение.\n",
    "    \n",
    "o\tПосле выполнения всех циклов, прочитайте и запишите в файл итоговые значения $AXIS_ACT (положение сочленений).\n",
    "\n",
    "o\tКорректно завершите работу с манипулятором, отправив команду выхода."
   ]
  },
  {
   "cell_type": "code",
   "execution_count": null,
   "id": "0284afc4",
   "metadata": {},
   "outputs": [],
   "source": [
    "from openshowvar import *\n",
    "from kuka import Kuka\n",
    "import numpy as np   \n",
    "import time\n",
    "#Подключение к роботу\n",
    "robot = openshowvar(ip = '192.168.17.2', port = 7000)\n",
    "kuka = Kuka(robot)"
   ]
  },
  {
   "cell_type": "code",
   "execution_count": null,
   "id": "c8070036",
   "metadata": {},
   "outputs": [],
   "source": [
    "#Ваше решение"
   ]
  }
 ],
 "metadata": {
  "kernelspec": {
   "display_name": "Python 3 (ipykernel)",
   "language": "python",
   "name": "python3"
  },
  "language_info": {
   "codemirror_mode": {
    "name": "ipython",
    "version": 3
   },
   "file_extension": ".py",
   "mimetype": "text/x-python",
   "name": "python",
   "nbconvert_exporter": "python",
   "pygments_lexer": "ipython3",
   "version": "3.9.12"
  }
 },
 "nbformat": 4,
 "nbformat_minor": 5
}
