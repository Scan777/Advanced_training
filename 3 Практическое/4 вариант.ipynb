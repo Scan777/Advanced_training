{
 "cells": [
  {
   "cell_type": "markdown",
   "id": "7606d4ca",
   "metadata": {},
   "source": [
    "# Вариант 4: \"Поиск самого крупного объекта заданного цвета\""
   ]
  },
  {
   "cell_type": "markdown",
   "id": "7c5fbc46",
   "metadata": {},
   "source": [
    "Задача: Найти самый большой красный объект в кадре.\n",
    "\n",
    "Специфика:\n",
    "\n",
    "•\tЦелевой цвет: Красный.\n",
    "\n",
    "•\tРеализовать поиск контура с максимальной площадью.\n",
    "\n",
    "•\tВыделить его на изображении особым цветом (например, белым) и вывести его координаты и площадь."
   ]
  },
  {
   "cell_type": "code",
   "execution_count": null,
   "id": "e188a604",
   "metadata": {},
   "outputs": [],
   "source": [
    "#Ваше решение"
   ]
  }
 ],
 "metadata": {
  "kernelspec": {
   "display_name": "Python 3 (ipykernel)",
   "language": "python",
   "name": "python3"
  },
  "language_info": {
   "codemirror_mode": {
    "name": "ipython",
    "version": 3
   },
   "file_extension": ".py",
   "mimetype": "text/x-python",
   "name": "python",
   "nbconvert_exporter": "python",
   "pygments_lexer": "ipython3",
   "version": "3.9.12"
  }
 },
 "nbformat": 4,
 "nbformat_minor": 5
}
