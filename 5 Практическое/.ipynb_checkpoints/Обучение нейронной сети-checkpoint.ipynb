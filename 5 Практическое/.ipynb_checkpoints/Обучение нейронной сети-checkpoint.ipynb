{
 "cells": [
  {
   "cell_type": "code",
   "execution_count": null,
   "id": "fa957a69",
   "metadata": {},
   "outputs": [],
   "source": [
    "pip install ultralytics"
   ]
  },
  {
   "cell_type": "code",
   "execution_count": null,
   "id": "f47139a7",
   "metadata": {},
   "outputs": [],
   "source": [
    "from ultralytics import YOLO\n",
    "\n",
    "# Load a model\n",
    "model = YOLO('yolov8n.pt') \n",
    "\n",
    "# Run inference\n",
    "results = model.predict(\n",
    "    source='https://media.roboflow.com/notebooks/examples/dog.jpeg',\n",
    "    conf=0.25,\n",
    "    save=True\n",
    ")"
   ]
  },
  {
   "cell_type": "code",
   "execution_count": null,
   "id": "6a3b10e5",
   "metadata": {},
   "outputs": [],
   "source": [
    "# Путь к своему проекту\n",
    "\n",
    "!pip install roboflow\n",
    "\n",
    "from roboflow import Roboflow\n",
    "rf = Roboflow(api_key=\"Y6I56Vzd7DhL6w7MpoeB\")\n",
    "project = rf.workspace(\"mycopterproject\").project(\"crack_drone-uxdxw\")\n",
    "version = project.version(2)\n",
    "dataset = version.download(\"yolov8\")       "
   ]
  },
  {
   "cell_type": "code",
   "execution_count": null,
   "id": "835da335",
   "metadata": {},
   "outputs": [],
   "source": [
    "from ultralytics import YOLO\n",
    "\n",
    "# Load a model\n",
    "model = YOLO('yolov8m.pt')  # load a pretrained model (recommended for training)\n",
    "\n",
    "# Train the model\n",
    "results = model.train(data='crack_drone-2/data.yaml', epochs=250, imgsz=640)"
   ]
  }
 ],
 "metadata": {
  "kernelspec": {
   "display_name": "Python 3 (ipykernel)",
   "language": "python",
   "name": "python3"
  },
  "language_info": {
   "codemirror_mode": {
    "name": "ipython",
    "version": 3
   },
   "file_extension": ".py",
   "mimetype": "text/x-python",
   "name": "python",
   "nbconvert_exporter": "python",
   "pygments_lexer": "ipython3",
   "version": "3.9.12"
  }
 },
 "nbformat": 4,
 "nbformat_minor": 5
}
