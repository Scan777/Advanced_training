{
 "cells": [
  {
   "cell_type": "markdown",
   "id": "4151fd6c",
   "metadata": {},
   "source": [
    "# Вариант 3: \"Поочередный захват разноцветных объектов\""
   ]
  },
  {
   "cell_type": "markdown",
   "id": "6cd4841d",
   "metadata": {},
   "source": [
    "Задача: Реализовать последовательный захват объектов разных цветов.\n",
    "\n",
    "•\tЦелевые цвета: Зеленый (Hue: 36-52) и Синий (Hue: 66-108)\n",
    "\n",
    "•\tОбнаруживать объекты обоих цветов одновременно\n",
    "\n",
    "•\tЗахват и перемещение: Захватывать сначала все зеленые объекты (слева направо), затем все синие объекты, перемещая их в общую зону склада"
   ]
  },
  {
   "cell_type": "code",
   "execution_count": null,
   "id": "86246c99",
   "metadata": {},
   "outputs": [],
   "source": [
    "#Ваше решение"
   ]
  }
 ],
 "metadata": {
  "kernelspec": {
   "display_name": "Python 3 (ipykernel)",
   "language": "python",
   "name": "python3"
  },
  "language_info": {
   "codemirror_mode": {
    "name": "ipython",
    "version": 3
   },
   "file_extension": ".py",
   "mimetype": "text/x-python",
   "name": "python",
   "nbconvert_exporter": "python",
   "pygments_lexer": "ipython3",
   "version": "3.9.12"
  }
 },
 "nbformat": 4,
 "nbformat_minor": 5
}
