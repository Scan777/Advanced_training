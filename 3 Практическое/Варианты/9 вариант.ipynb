{
 "cells": [
  {
   "cell_type": "markdown",
   "id": "7606d4ca",
   "metadata": {},
   "source": [
    "# Вариант 9: \"Сравнение эффективности RGB и HSV\""
   ]
  },
  {
   "cell_type": "markdown",
   "id": "7c5fbc46",
   "metadata": {},
   "source": [
    "Задача: Реализовать детектирование желтого цвета в RGB и HSV для сравнения.\n",
    "\n",
    "Специфика:\n",
    "\n",
    "•\tРеализовать два режима детектирования желтого цвета: по RGB-диапазону и по HSV-диапазону.\n",
    "\n",
    "•\tВыводить результаты обоих методов рядом.\n",
    "\n",
    "•\tСделать вывод о эффективности каждого метода на основе визуального сравнения."
   ]
  },
  {
   "cell_type": "code",
   "execution_count": null,
   "id": "e188a604",
   "metadata": {},
   "outputs": [],
   "source": [
    "#Ваше решение"
   ]
  }
 ],
 "metadata": {
  "kernelspec": {
   "display_name": "Python 3 (ipykernel)",
   "language": "python",
   "name": "python3"
  },
  "language_info": {
   "codemirror_mode": {
    "name": "ipython",
    "version": 3
   },
   "file_extension": ".py",
   "mimetype": "text/x-python",
   "name": "python",
   "nbconvert_exporter": "python",
   "pygments_lexer": "ipython3",
   "version": "3.9.12"
  }
 },
 "nbformat": 4,
 "nbformat_minor": 5
}
