{
 "cells": [
  {
   "cell_type": "markdown",
   "id": "a68db2b4",
   "metadata": {},
   "source": [
    "# Вариант 3: \"Захват самого крупного объекта\""
   ]
  },
  {
   "cell_type": "markdown",
   "id": "2e6c7711",
   "metadata": {},
   "source": [
    "Задача: Найти и захватить самый большой объект в кадре.\n",
    "\n",
    "    •\tКласс объекта: любой доступный\n",
    "    •\tОпределять размер bounding box для каждого объекта\n",
    "    •\tЗахват и перемещение: Выбирать объект с наибольшей площадью bounding box и перемещать его в зону для крупных объектов"
   ]
  },
  {
   "cell_type": "code",
   "execution_count": null,
   "id": "8025239d",
   "metadata": {},
   "outputs": [],
   "source": [
    "#Ваше решение"
   ]
  }
 ],
 "metadata": {
  "kernelspec": {
   "display_name": "Python 3 (ipykernel)",
   "language": "python",
   "name": "python3"
  },
  "language_info": {
   "codemirror_mode": {
    "name": "ipython",
    "version": 3
   },
   "file_extension": ".py",
   "mimetype": "text/x-python",
   "name": "python",
   "nbconvert_exporter": "python",
   "pygments_lexer": "ipython3",
   "version": "3.9.12"
  }
 },
 "nbformat": 4,
 "nbformat_minor": 5
}
