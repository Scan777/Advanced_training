{
 "cells": [
  {
   "cell_type": "markdown",
   "id": "3fd7d633",
   "metadata": {},
   "source": [
    "# Вариант 9: \"Силовой\""
   ]
  },
  {
   "cell_type": "markdown",
   "id": "0c33d450",
   "metadata": {},
   "source": [
    "1.\tНапишите скрипт, ориентированный на работу с цифровыми входами/выходами.\n",
    "2.\tАлгоритм:\n",
    "\n",
    "o\tУстановите скорость 60%.\n",
    "\n",
    "o\tНапишите цикл, который ожидает сигнал на цифровом входе IN[1] (например, от датчика наличия детали).\n",
    "\n",
    "o\tКак только сигнал получен, манипулятор должен:\n",
    "\n",
    "    Подойти к месту забора детали.\n",
    "    Закрыть захват.\n",
    "    Активировать цифровой выход OUT[4] (например, сигнал \"Деталь взята\").\n",
    "    Переместить деталь в зону разгрузки."
   ]
  },
  {
   "cell_type": "code",
   "execution_count": null,
   "id": "0284afc4",
   "metadata": {},
   "outputs": [],
   "source": [
    "from openshowvar import *\n",
    "from kuka import Kuka\n",
    "import numpy as np   \n",
    "import time\n",
    "#Подключение к роботу\n",
    "robot = openshowvar(ip = '192.168.17.2', port = 7000)\n",
    "kuka = Kuka(robot)"
   ]
  },
  {
   "cell_type": "code",
   "execution_count": null,
   "id": "c8070036",
   "metadata": {},
   "outputs": [],
   "source": [
    "#Ваше решение"
   ]
  }
 ],
 "metadata": {
  "kernelspec": {
   "display_name": "Python 3 (ipykernel)",
   "language": "python",
   "name": "python3"
  },
  "language_info": {
   "codemirror_mode": {
    "name": "ipython",
    "version": 3
   },
   "file_extension": ".py",
   "mimetype": "text/x-python",
   "name": "python",
   "nbconvert_exporter": "python",
   "pygments_lexer": "ipython3",
   "version": "3.9.12"
  }
 },
 "nbformat": 4,
 "nbformat_minor": 5
}
