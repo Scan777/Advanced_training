{
 "cells": [
  {
   "cell_type": "markdown",
   "id": "4151fd6c",
   "metadata": {},
   "source": [
    "# Вариант 9: \"Интеллектуальный выбор объекта для захвата\""
   ]
  },
  {
   "cell_type": "markdown",
   "id": "6cd4841d",
   "metadata": {},
   "source": [
    "Задача: Выбирать объект для захвата на основе дополнительных критериев.\n",
    "\n",
    "•\tЦелевой цвет: Красный\n",
    "\n",
    "•\tОпределить для каждого объекта: расстояние до центра кадра, размер, компактность\n",
    "\n",
    "•\tЗахват и перемещение: Выбирать объект с наилучшими характеристиками (ближе к центру, крупнее, более круглый) и захватывать его"
   ]
  },
  {
   "cell_type": "code",
   "execution_count": null,
   "id": "86246c99",
   "metadata": {},
   "outputs": [],
   "source": [
    "#Ваше решение"
   ]
  }
 ],
 "metadata": {
  "kernelspec": {
   "display_name": "Python 3 (ipykernel)",
   "language": "python",
   "name": "python3"
  },
  "language_info": {
   "codemirror_mode": {
    "name": "ipython",
    "version": 3
   },
   "file_extension": ".py",
   "mimetype": "text/x-python",
   "name": "python",
   "nbconvert_exporter": "python",
   "pygments_lexer": "ipython3",
   "version": "3.9.12"
  }
 },
 "nbformat": 4,
 "nbformat_minor": 5
}
