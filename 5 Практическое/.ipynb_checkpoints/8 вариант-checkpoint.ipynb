{
 "cells": [
  {
   "cell_type": "markdown",
   "id": "a68db2b4",
   "metadata": {},
   "source": [
    "# Вариант 8: \"Захват с проверкой уверенности детектирования\""
   ]
  },
  {
   "cell_type": "markdown",
   "id": "2e6c7711",
   "metadata": {},
   "source": [
    "Задача: Реализовать захват только при высокой уверенности детектирования.\n",
    "\n",
    "    •\tКласс объекта: бутылка (bottle)\n",
    "    •\tУстановить порог confidence = 0.7\n",
    "    •\tЗахват и перемещение: Захватывать только объекты с confidence выше порога. При низком confidence пропускать объект"
   ]
  },
  {
   "cell_type": "code",
   "execution_count": null,
   "id": "8025239d",
   "metadata": {},
   "outputs": [],
   "source": [
    "#Ваше решение"
   ]
  }
 ],
 "metadata": {
  "kernelspec": {
   "display_name": "Python 3 (ipykernel)",
   "language": "python",
   "name": "python3"
  },
  "language_info": {
   "codemirror_mode": {
    "name": "ipython",
    "version": 3
   },
   "file_extension": ".py",
   "mimetype": "text/x-python",
   "name": "python",
   "nbconvert_exporter": "python",
   "pygments_lexer": "ipython3",
   "version": "3.9.12"
  }
 },
 "nbformat": 4,
 "nbformat_minor": 5
}
