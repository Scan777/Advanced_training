{
 "cells": [
  {
   "cell_type": "markdown",
   "id": "7606d4ca",
   "metadata": {},
   "source": [
    "# Вариант 5: \"Анализ влияния освещения на цветовое детектирование\""
   ]
  },
  {
   "cell_type": "markdown",
   "id": "7c5fbc46",
   "metadata": {},
   "source": [
    "Задача: Исследовать устойчивость цветового детектирования к изменению условий освещения.\n",
    "Специфика:\n",
    "\n",
    "•\tЦелевой цвет: Зеленый (Hue: 36-52, Saturation: 158-255, Value: 0-255)\n",
    "\n",
    "•\tПровести серию экспериментов с различными условиями освещения:\n",
    "\n",
    "    1.\tСтандартное освещение\n",
    "    2.\tЗатемненная сцена\n",
    "    3.\tЯркая засветка\n",
    "    4.\tИзмененный цветовой фон (теплый/холодный свет)\n",
    "    \n",
    "•\tДля каждого условия:\n",
    "\n",
    "    1.\tЗафиксировать количество ложноположительных и ложноотрицательных срабатываний\n",
    "    2.\tИзмерить стабильность координат детектируемого объекта\n",
    "    3.\tСделать скриншоты результатов\n"
   ]
  },
  {
   "cell_type": "code",
   "execution_count": null,
   "id": "e188a604",
   "metadata": {},
   "outputs": [],
   "source": [
    "#Ваше решение"
   ]
  }
 ],
 "metadata": {
  "kernelspec": {
   "display_name": "Python 3 (ipykernel)",
   "language": "python",
   "name": "python3"
  },
  "language_info": {
   "codemirror_mode": {
    "name": "ipython",
    "version": 3
   },
   "file_extension": ".py",
   "mimetype": "text/x-python",
   "name": "python",
   "nbconvert_exporter": "python",
   "pygments_lexer": "ipython3",
   "version": "3.9.12"
  }
 },
 "nbformat": 4,
 "nbformat_minor": 5
}
