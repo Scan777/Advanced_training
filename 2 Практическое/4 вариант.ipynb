{
 "cells": [
  {
   "cell_type": "markdown",
   "id": "3fd7d633",
   "metadata": {},
   "source": [
    "# Вариант 4: \"Сортировщик\""
   ]
  },
  {
   "cell_type": "markdown",
   "id": "0c33d450",
   "metadata": {},
   "source": [
    "1.\tНапишите скрипт, сортирующий объекты по двум зонам.\n",
    "2.\tАлгоритм:\n",
    "\n",
    "o\tУстановите высокую скорость (80%).\n",
    "\n",
    "o\tРеализуйте цикл, который 2 раза выполняет последовательность:\n",
    "\n",
    "    Захват объекта в точке {X: 200, Y: 0, Z: 100}.\n",
    "    \n",
    "    Если это первая итерация, перенесите объект в Зону A {X: 300, Y: 200, Z: 150}.\n",
    "    \n",
    "    Если это вторая итерация, перенесите объект в Зону B {X: 300, Y: -200, Z: 150}.\n",
    "    \n",
    "o\tИспользуйте тип движения PTP для быстрых перемещений между зонами."
   ]
  },
  {
   "cell_type": "code",
   "execution_count": null,
   "id": "0284afc4",
   "metadata": {},
   "outputs": [],
   "source": [
    "from openshowvar import *\n",
    "from kuka import Kuka\n",
    "import numpy as np   \n",
    "import time\n",
    "#Подключение к роботу\n",
    "robot = openshowvar(ip = '192.168.17.2', port = 7000)\n",
    "kuka = Kuka(robot)"
   ]
  },
  {
   "cell_type": "code",
   "execution_count": null,
   "id": "c8070036",
   "metadata": {},
   "outputs": [],
   "source": [
    "#Ваше решение"
   ]
  }
 ],
 "metadata": {
  "kernelspec": {
   "display_name": "Python 3 (ipykernel)",
   "language": "python",
   "name": "python3"
  },
  "language_info": {
   "codemirror_mode": {
    "name": "ipython",
    "version": 3
   },
   "file_extension": ".py",
   "mimetype": "text/x-python",
   "name": "python",
   "nbconvert_exporter": "python",
   "pygments_lexer": "ipython3",
   "version": "3.9.12"
  }
 },
 "nbformat": 4,
 "nbformat_minor": 5
}
